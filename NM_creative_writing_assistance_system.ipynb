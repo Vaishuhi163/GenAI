{
  "nbformat": 4,
  "nbformat_minor": 0,
  "metadata": {
    "colab": {
      "provenance": []
    },
    "kernelspec": {
      "name": "python3",
      "display_name": "Python 3"
    },
    "language_info": {
      "name": "python"
    }
  },
  "cells": [
    {
      "cell_type": "code",
      "execution_count": 1,
      "metadata": {
        "id": "rrIB-XS5GVt-"
      },
      "outputs": [],
      "source": [
        "import numpy as np\n",
        "import pandas as pd\n",
        "from tensorflow.keras.models import Sequential\n",
        "from tensorflow.keras.layers import LSTM, Dense, Embedding, Bidirectional\n",
        "from tensorflow.keras.preprocessing.text import Tokenizer\n",
        "from tensorflow.keras.preprocessing.sequence import pad_sequences"
      ]
    },
    {
      "cell_type": "code",
      "source": [
        "from google.colab import files\n",
        "f=files.upload()"
      ],
      "metadata": {
        "colab": {
          "base_uri": "https://localhost:8080/",
          "height": 73
        },
        "id": "gD06OwmYK6k_",
        "outputId": "4b0edb18-53a6-452a-b791-e97f53fcc6c1"
      },
      "execution_count": 68,
      "outputs": [
        {
          "output_type": "display_data",
          "data": {
            "text/plain": [
              "<IPython.core.display.HTML object>"
            ],
            "text/html": [
              "\n",
              "     <input type=\"file\" id=\"files-491478fc-4218-4d91-85f8-e8c24c3a532d\" name=\"files[]\" multiple disabled\n",
              "        style=\"border:none\" />\n",
              "     <output id=\"result-491478fc-4218-4d91-85f8-e8c24c3a532d\">\n",
              "      Upload widget is only available when the cell has been executed in the\n",
              "      current browser session. Please rerun this cell to enable.\n",
              "      </output>\n",
              "      <script>// Copyright 2017 Google LLC\n",
              "//\n",
              "// Licensed under the Apache License, Version 2.0 (the \"License\");\n",
              "// you may not use this file except in compliance with the License.\n",
              "// You may obtain a copy of the License at\n",
              "//\n",
              "//      http://www.apache.org/licenses/LICENSE-2.0\n",
              "//\n",
              "// Unless required by applicable law or agreed to in writing, software\n",
              "// distributed under the License is distributed on an \"AS IS\" BASIS,\n",
              "// WITHOUT WARRANTIES OR CONDITIONS OF ANY KIND, either express or implied.\n",
              "// See the License for the specific language governing permissions and\n",
              "// limitations under the License.\n",
              "\n",
              "/**\n",
              " * @fileoverview Helpers for google.colab Python module.\n",
              " */\n",
              "(function(scope) {\n",
              "function span(text, styleAttributes = {}) {\n",
              "  const element = document.createElement('span');\n",
              "  element.textContent = text;\n",
              "  for (const key of Object.keys(styleAttributes)) {\n",
              "    element.style[key] = styleAttributes[key];\n",
              "  }\n",
              "  return element;\n",
              "}\n",
              "\n",
              "// Max number of bytes which will be uploaded at a time.\n",
              "const MAX_PAYLOAD_SIZE = 100 * 1024;\n",
              "\n",
              "function _uploadFiles(inputId, outputId) {\n",
              "  const steps = uploadFilesStep(inputId, outputId);\n",
              "  const outputElement = document.getElementById(outputId);\n",
              "  // Cache steps on the outputElement to make it available for the next call\n",
              "  // to uploadFilesContinue from Python.\n",
              "  outputElement.steps = steps;\n",
              "\n",
              "  return _uploadFilesContinue(outputId);\n",
              "}\n",
              "\n",
              "// This is roughly an async generator (not supported in the browser yet),\n",
              "// where there are multiple asynchronous steps and the Python side is going\n",
              "// to poll for completion of each step.\n",
              "// This uses a Promise to block the python side on completion of each step,\n",
              "// then passes the result of the previous step as the input to the next step.\n",
              "function _uploadFilesContinue(outputId) {\n",
              "  const outputElement = document.getElementById(outputId);\n",
              "  const steps = outputElement.steps;\n",
              "\n",
              "  const next = steps.next(outputElement.lastPromiseValue);\n",
              "  return Promise.resolve(next.value.promise).then((value) => {\n",
              "    // Cache the last promise value to make it available to the next\n",
              "    // step of the generator.\n",
              "    outputElement.lastPromiseValue = value;\n",
              "    return next.value.response;\n",
              "  });\n",
              "}\n",
              "\n",
              "/**\n",
              " * Generator function which is called between each async step of the upload\n",
              " * process.\n",
              " * @param {string} inputId Element ID of the input file picker element.\n",
              " * @param {string} outputId Element ID of the output display.\n",
              " * @return {!Iterable<!Object>} Iterable of next steps.\n",
              " */\n",
              "function* uploadFilesStep(inputId, outputId) {\n",
              "  const inputElement = document.getElementById(inputId);\n",
              "  inputElement.disabled = false;\n",
              "\n",
              "  const outputElement = document.getElementById(outputId);\n",
              "  outputElement.innerHTML = '';\n",
              "\n",
              "  const pickedPromise = new Promise((resolve) => {\n",
              "    inputElement.addEventListener('change', (e) => {\n",
              "      resolve(e.target.files);\n",
              "    });\n",
              "  });\n",
              "\n",
              "  const cancel = document.createElement('button');\n",
              "  inputElement.parentElement.appendChild(cancel);\n",
              "  cancel.textContent = 'Cancel upload';\n",
              "  const cancelPromise = new Promise((resolve) => {\n",
              "    cancel.onclick = () => {\n",
              "      resolve(null);\n",
              "    };\n",
              "  });\n",
              "\n",
              "  // Wait for the user to pick the files.\n",
              "  const files = yield {\n",
              "    promise: Promise.race([pickedPromise, cancelPromise]),\n",
              "    response: {\n",
              "      action: 'starting',\n",
              "    }\n",
              "  };\n",
              "\n",
              "  cancel.remove();\n",
              "\n",
              "  // Disable the input element since further picks are not allowed.\n",
              "  inputElement.disabled = true;\n",
              "\n",
              "  if (!files) {\n",
              "    return {\n",
              "      response: {\n",
              "        action: 'complete',\n",
              "      }\n",
              "    };\n",
              "  }\n",
              "\n",
              "  for (const file of files) {\n",
              "    const li = document.createElement('li');\n",
              "    li.append(span(file.name, {fontWeight: 'bold'}));\n",
              "    li.append(span(\n",
              "        `(${file.type || 'n/a'}) - ${file.size} bytes, ` +\n",
              "        `last modified: ${\n",
              "            file.lastModifiedDate ? file.lastModifiedDate.toLocaleDateString() :\n",
              "                                    'n/a'} - `));\n",
              "    const percent = span('0% done');\n",
              "    li.appendChild(percent);\n",
              "\n",
              "    outputElement.appendChild(li);\n",
              "\n",
              "    const fileDataPromise = new Promise((resolve) => {\n",
              "      const reader = new FileReader();\n",
              "      reader.onload = (e) => {\n",
              "        resolve(e.target.result);\n",
              "      };\n",
              "      reader.readAsArrayBuffer(file);\n",
              "    });\n",
              "    // Wait for the data to be ready.\n",
              "    let fileData = yield {\n",
              "      promise: fileDataPromise,\n",
              "      response: {\n",
              "        action: 'continue',\n",
              "      }\n",
              "    };\n",
              "\n",
              "    // Use a chunked sending to avoid message size limits. See b/62115660.\n",
              "    let position = 0;\n",
              "    do {\n",
              "      const length = Math.min(fileData.byteLength - position, MAX_PAYLOAD_SIZE);\n",
              "      const chunk = new Uint8Array(fileData, position, length);\n",
              "      position += length;\n",
              "\n",
              "      const base64 = btoa(String.fromCharCode.apply(null, chunk));\n",
              "      yield {\n",
              "        response: {\n",
              "          action: 'append',\n",
              "          file: file.name,\n",
              "          data: base64,\n",
              "        },\n",
              "      };\n",
              "\n",
              "      let percentDone = fileData.byteLength === 0 ?\n",
              "          100 :\n",
              "          Math.round((position / fileData.byteLength) * 100);\n",
              "      percent.textContent = `${percentDone}% done`;\n",
              "\n",
              "    } while (position < fileData.byteLength);\n",
              "  }\n",
              "\n",
              "  // All done.\n",
              "  yield {\n",
              "    response: {\n",
              "      action: 'complete',\n",
              "    }\n",
              "  };\n",
              "}\n",
              "\n",
              "scope.google = scope.google || {};\n",
              "scope.google.colab = scope.google.colab || {};\n",
              "scope.google.colab._files = {\n",
              "  _uploadFiles,\n",
              "  _uploadFilesContinue,\n",
              "};\n",
              "})(self);\n",
              "</script> "
            ]
          },
          "metadata": {}
        },
        {
          "output_type": "stream",
          "name": "stdout",
          "text": [
            "Saving creative_writing2.csv to creative_writing2 (1).csv\n"
          ]
        }
      ]
    },
    {
      "cell_type": "code",
      "source": [
        "df = pd.read_csv('creative_writing2 (1).csv')"
      ],
      "metadata": {
        "id": "jzfUfAaEGtZn"
      },
      "execution_count": 69,
      "outputs": []
    },
    {
      "cell_type": "code",
      "source": [
        "df.dropna(inplace=True)"
      ],
      "metadata": {
        "id": "7ZnwWgrmHkLF"
      },
      "execution_count": 70,
      "outputs": []
    },
    {
      "cell_type": "code",
      "source": [
        "corpus = [(prompt, creative_writing) for prompt, creative_writing in zip(df['prompt'], df['creative_writing'])]"
      ],
      "metadata": {
        "id": "qfOyJsj7HSPp"
      },
      "execution_count": 71,
      "outputs": []
    },
    {
      "cell_type": "code",
      "source": [
        "tokenizer = Tokenizer()\n",
        "tokenizer.fit_on_texts([row[1] for row in corpus])\n",
        "total_words = len(tokenizer.word_index) + 1"
      ],
      "metadata": {
        "id": "ZUw7xr9UHW-4"
      },
      "execution_count": 72,
      "outputs": []
    },
    {
      "cell_type": "code",
      "source": [
        "input_sequences = []\n",
        "for _, creative_writing in corpus:\n",
        "    token_list = tokenizer.texts_to_sequences([creative_writing])[0]\n",
        "    for i in range(1, len(token_list)):\n",
        "        n_gram_sequence = token_list[:i+1]\n",
        "        input_sequences.append(n_gram_sequence)"
      ],
      "metadata": {
        "id": "yDRchkTXHnjX"
      },
      "execution_count": 73,
      "outputs": []
    },
    {
      "cell_type": "code",
      "source": [
        "max_sequence_len = max([len(x) for x in input_sequences])\n",
        "input_sequences = np.array(pad_sequences(input_sequences, maxlen=max_sequence_len, padding='pre'))"
      ],
      "metadata": {
        "id": "E335le7hHtg2"
      },
      "execution_count": 74,
      "outputs": []
    },
    {
      "cell_type": "code",
      "source": [
        "X, y = input_sequences[:,:-1],input_sequences[:,-1]"
      ],
      "metadata": {
        "id": "3NqenzvUHxgy"
      },
      "execution_count": 75,
      "outputs": []
    },
    {
      "cell_type": "code",
      "source": [
        "model = Sequential()\n",
        "model.add(Embedding(total_words, 50, input_length=max_sequence_len-1))\n",
        "model.add(Bidirectional(LSTM(150)))\n",
        "model.add(Dense(total_words, activation='softmax'))"
      ],
      "metadata": {
        "id": "CoWjPkijH1pJ"
      },
      "execution_count": 76,
      "outputs": []
    },
    {
      "cell_type": "code",
      "source": [
        "model.compile(loss='sparse_categorical_crossentropy', optimizer='adam', metrics=['accuracy'])"
      ],
      "metadata": {
        "id": "P-0yd-KcH5Pt"
      },
      "execution_count": 77,
      "outputs": []
    },
    {
      "cell_type": "code",
      "source": [
        "model.fit(X, y, epochs=100, verbose=1)"
      ],
      "metadata": {
        "colab": {
          "base_uri": "https://localhost:8080/"
        },
        "id": "nJxbtr1bH-y9",
        "outputId": "81b64fa1-61db-4128-eaa4-0c1319367374"
      },
      "execution_count": 78,
      "outputs": [
        {
          "output_type": "stream",
          "name": "stdout",
          "text": [
            "Epoch 1/100\n",
            "50/50 [==============================] - 12s 145ms/step - loss: 5.7510 - accuracy: 0.1192\n",
            "Epoch 2/100\n",
            "50/50 [==============================] - 6s 120ms/step - loss: 5.2335 - accuracy: 0.1408\n",
            "Epoch 3/100\n",
            "50/50 [==============================] - 7s 141ms/step - loss: 5.1332 - accuracy: 0.1408\n",
            "Epoch 4/100\n",
            "50/50 [==============================] - 6s 120ms/step - loss: 5.0028 - accuracy: 0.1439\n",
            "Epoch 5/100\n",
            "50/50 [==============================] - 7s 148ms/step - loss: 4.8496 - accuracy: 0.1687\n",
            "Epoch 6/100\n",
            "50/50 [==============================] - 7s 134ms/step - loss: 4.6747 - accuracy: 0.1959\n",
            "Epoch 7/100\n",
            "50/50 [==============================] - 7s 128ms/step - loss: 4.4763 - accuracy: 0.2169\n",
            "Epoch 8/100\n",
            "50/50 [==============================] - 7s 130ms/step - loss: 4.2489 - accuracy: 0.2391\n",
            "Epoch 9/100\n",
            "50/50 [==============================] - 7s 129ms/step - loss: 4.0238 - accuracy: 0.2467\n",
            "Epoch 10/100\n",
            "50/50 [==============================] - 6s 130ms/step - loss: 3.8093 - accuracy: 0.2638\n",
            "Epoch 11/100\n",
            "50/50 [==============================] - 6s 128ms/step - loss: 3.6289 - accuracy: 0.2752\n",
            "Epoch 12/100\n",
            "50/50 [==============================] - 7s 130ms/step - loss: 3.4270 - accuracy: 0.2968\n",
            "Epoch 13/100\n",
            "50/50 [==============================] - 6s 127ms/step - loss: 3.2367 - accuracy: 0.3183\n",
            "Epoch 14/100\n",
            "50/50 [==============================] - 6s 127ms/step - loss: 3.0597 - accuracy: 0.3475\n",
            "Epoch 15/100\n",
            "50/50 [==============================] - 7s 129ms/step - loss: 2.9059 - accuracy: 0.3633\n",
            "Epoch 16/100\n",
            "50/50 [==============================] - 6s 128ms/step - loss: 2.7666 - accuracy: 0.3874\n",
            "Epoch 17/100\n",
            "50/50 [==============================] - 7s 128ms/step - loss: 2.6109 - accuracy: 0.4046\n",
            "Epoch 18/100\n",
            "50/50 [==============================] - 6s 129ms/step - loss: 2.4572 - accuracy: 0.4261\n",
            "Epoch 19/100\n",
            "50/50 [==============================] - 7s 130ms/step - loss: 2.3322 - accuracy: 0.4509\n",
            "Epoch 20/100\n",
            "50/50 [==============================] - 7s 132ms/step - loss: 2.2255 - accuracy: 0.4686\n",
            "Epoch 21/100\n",
            "50/50 [==============================] - 6s 127ms/step - loss: 2.0728 - accuracy: 0.5193\n",
            "Epoch 22/100\n",
            "50/50 [==============================] - 6s 127ms/step - loss: 1.9473 - accuracy: 0.5510\n",
            "Epoch 23/100\n",
            "50/50 [==============================] - 7s 129ms/step - loss: 1.8062 - accuracy: 0.5866\n",
            "Epoch 24/100\n",
            "50/50 [==============================] - 6s 125ms/step - loss: 1.6829 - accuracy: 0.6189\n",
            "Epoch 25/100\n",
            "50/50 [==============================] - 7s 130ms/step - loss: 1.5780 - accuracy: 0.6563\n",
            "Epoch 26/100\n",
            "50/50 [==============================] - 6s 125ms/step - loss: 1.4705 - accuracy: 0.6817\n",
            "Epoch 27/100\n",
            "50/50 [==============================] - 7s 133ms/step - loss: 1.3832 - accuracy: 0.6944\n",
            "Epoch 28/100\n",
            "50/50 [==============================] - 6s 125ms/step - loss: 1.3187 - accuracy: 0.7204\n",
            "Epoch 29/100\n",
            "50/50 [==============================] - 7s 131ms/step - loss: 1.2114 - accuracy: 0.7438\n",
            "Epoch 30/100\n",
            "50/50 [==============================] - 7s 140ms/step - loss: 1.1382 - accuracy: 0.7673\n",
            "Epoch 31/100\n",
            "50/50 [==============================] - 6s 124ms/step - loss: 1.0461 - accuracy: 0.7901\n",
            "Epoch 32/100\n",
            "50/50 [==============================] - 6s 125ms/step - loss: 0.9904 - accuracy: 0.8072\n",
            "Epoch 33/100\n",
            "50/50 [==============================] - 7s 130ms/step - loss: 0.9550 - accuracy: 0.8155\n",
            "Epoch 34/100\n",
            "50/50 [==============================] - 6s 124ms/step - loss: 0.8756 - accuracy: 0.8269\n",
            "Epoch 35/100\n",
            "50/50 [==============================] - 7s 131ms/step - loss: 0.8263 - accuracy: 0.8535\n",
            "Epoch 36/100\n",
            "50/50 [==============================] - 6s 122ms/step - loss: 0.8240 - accuracy: 0.8383\n",
            "Epoch 37/100\n",
            "50/50 [==============================] - 7s 133ms/step - loss: 0.7189 - accuracy: 0.8757\n",
            "Epoch 38/100\n",
            "50/50 [==============================] - 6s 117ms/step - loss: 0.6579 - accuracy: 0.8821\n",
            "Epoch 39/100\n",
            "50/50 [==============================] - 7s 136ms/step - loss: 0.6212 - accuracy: 0.8903\n",
            "Epoch 40/100\n",
            "50/50 [==============================] - 6s 114ms/step - loss: 0.5703 - accuracy: 0.9062\n",
            "Epoch 41/100\n",
            "50/50 [==============================] - 7s 139ms/step - loss: 0.5290 - accuracy: 0.9169\n",
            "Epoch 42/100\n",
            "50/50 [==============================] - 6s 114ms/step - loss: 0.4889 - accuracy: 0.9328\n",
            "Epoch 43/100\n",
            "50/50 [==============================] - 7s 141ms/step - loss: 0.5567 - accuracy: 0.9004\n",
            "Epoch 44/100\n",
            "50/50 [==============================] - 6s 114ms/step - loss: 0.6300 - accuracy: 0.8865\n",
            "Epoch 45/100\n",
            "50/50 [==============================] - 7s 141ms/step - loss: 0.5212 - accuracy: 0.9163\n",
            "Epoch 46/100\n",
            "50/50 [==============================] - 6s 114ms/step - loss: 0.5003 - accuracy: 0.9157\n",
            "Epoch 47/100\n",
            "50/50 [==============================] - 7s 142ms/step - loss: 0.4173 - accuracy: 0.9398\n",
            "Epoch 48/100\n",
            "50/50 [==============================] - 6s 115ms/step - loss: 0.3753 - accuracy: 0.9499\n",
            "Epoch 49/100\n",
            "50/50 [==============================] - 7s 141ms/step - loss: 0.3402 - accuracy: 0.9543\n",
            "Epoch 50/100\n",
            "50/50 [==============================] - 6s 113ms/step - loss: 0.3142 - accuracy: 0.9569\n",
            "Epoch 51/100\n",
            "50/50 [==============================] - 7s 141ms/step - loss: 0.3050 - accuracy: 0.9581\n",
            "Epoch 52/100\n",
            "50/50 [==============================] - 6s 114ms/step - loss: 0.3442 - accuracy: 0.9391\n",
            "Epoch 53/100\n",
            "50/50 [==============================] - 7s 142ms/step - loss: 0.3115 - accuracy: 0.9512\n",
            "Epoch 54/100\n",
            "50/50 [==============================] - 6s 112ms/step - loss: 0.2992 - accuracy: 0.9524\n",
            "Epoch 55/100\n",
            "50/50 [==============================] - 7s 141ms/step - loss: 0.2514 - accuracy: 0.9651\n",
            "Epoch 56/100\n",
            "50/50 [==============================] - 6s 114ms/step - loss: 0.2296 - accuracy: 0.9658\n",
            "Epoch 57/100\n",
            "50/50 [==============================] - 7s 140ms/step - loss: 0.2178 - accuracy: 0.9664\n",
            "Epoch 58/100\n",
            "50/50 [==============================] - 6s 114ms/step - loss: 0.2092 - accuracy: 0.9670\n",
            "Epoch 59/100\n",
            "50/50 [==============================] - 7s 141ms/step - loss: 0.1911 - accuracy: 0.9708\n",
            "Epoch 60/100\n",
            "50/50 [==============================] - 6s 115ms/step - loss: 0.1804 - accuracy: 0.9696\n",
            "Epoch 61/100\n",
            "50/50 [==============================] - 7s 143ms/step - loss: 0.1673 - accuracy: 0.9753\n",
            "Epoch 62/100\n",
            "50/50 [==============================] - 6s 114ms/step - loss: 0.1606 - accuracy: 0.9715\n",
            "Epoch 63/100\n",
            "50/50 [==============================] - 7s 142ms/step - loss: 0.1542 - accuracy: 0.9727\n",
            "Epoch 64/100\n",
            "50/50 [==============================] - 6s 114ms/step - loss: 0.1562 - accuracy: 0.9715\n",
            "Epoch 65/100\n",
            "50/50 [==============================] - 7s 142ms/step - loss: 0.1500 - accuracy: 0.9727\n",
            "Epoch 66/100\n",
            "50/50 [==============================] - 6s 113ms/step - loss: 0.1547 - accuracy: 0.9696\n",
            "Epoch 67/100\n",
            "50/50 [==============================] - 7s 142ms/step - loss: 0.1376 - accuracy: 0.9734\n",
            "Epoch 68/100\n",
            "50/50 [==============================] - 6s 114ms/step - loss: 0.1308 - accuracy: 0.9746\n",
            "Epoch 69/100\n",
            "50/50 [==============================] - 7s 142ms/step - loss: 0.1311 - accuracy: 0.9715\n",
            "Epoch 70/100\n",
            "50/50 [==============================] - 6s 114ms/step - loss: 0.1235 - accuracy: 0.9727\n",
            "Epoch 71/100\n",
            "50/50 [==============================] - 7s 141ms/step - loss: 0.1191 - accuracy: 0.9740\n",
            "Epoch 72/100\n",
            "50/50 [==============================] - 6s 114ms/step - loss: 0.1175 - accuracy: 0.9734\n",
            "Epoch 73/100\n",
            "50/50 [==============================] - 7s 142ms/step - loss: 0.1092 - accuracy: 0.9784\n",
            "Epoch 74/100\n",
            "50/50 [==============================] - 6s 115ms/step - loss: 0.1034 - accuracy: 0.9772\n",
            "Epoch 75/100\n",
            "50/50 [==============================] - 7s 141ms/step - loss: 0.1041 - accuracy: 0.9740\n",
            "Epoch 76/100\n",
            "50/50 [==============================] - 6s 115ms/step - loss: 0.1009 - accuracy: 0.9759\n",
            "Epoch 77/100\n",
            "50/50 [==============================] - 7s 141ms/step - loss: 0.0982 - accuracy: 0.9778\n",
            "Epoch 78/100\n",
            "50/50 [==============================] - 6s 115ms/step - loss: 0.0948 - accuracy: 0.9778\n",
            "Epoch 79/100\n",
            "50/50 [==============================] - 7s 143ms/step - loss: 0.0958 - accuracy: 0.9746\n",
            "Epoch 80/100\n",
            "50/50 [==============================] - 6s 114ms/step - loss: 0.0975 - accuracy: 0.9721\n",
            "Epoch 81/100\n",
            "50/50 [==============================] - 7s 143ms/step - loss: 0.0879 - accuracy: 0.9791\n",
            "Epoch 82/100\n",
            "50/50 [==============================] - 6s 115ms/step - loss: 0.0831 - accuracy: 0.9803\n",
            "Epoch 83/100\n",
            "50/50 [==============================] - 7s 141ms/step - loss: 0.0848 - accuracy: 0.9753\n",
            "Epoch 84/100\n",
            "50/50 [==============================] - 6s 115ms/step - loss: 0.0861 - accuracy: 0.9797\n",
            "Epoch 85/100\n",
            "50/50 [==============================] - 7s 140ms/step - loss: 0.0795 - accuracy: 0.9772\n",
            "Epoch 86/100\n",
            "50/50 [==============================] - 6s 117ms/step - loss: 0.0776 - accuracy: 0.9791\n",
            "Epoch 87/100\n",
            "50/50 [==============================] - 7s 142ms/step - loss: 0.0916 - accuracy: 0.9753\n",
            "Epoch 88/100\n",
            "50/50 [==============================] - 6s 117ms/step - loss: 0.0832 - accuracy: 0.9822\n",
            "Epoch 89/100\n",
            "50/50 [==============================] - 7s 144ms/step - loss: 0.0860 - accuracy: 0.9784\n",
            "Epoch 90/100\n",
            "50/50 [==============================] - 6s 118ms/step - loss: 0.0942 - accuracy: 0.9759\n",
            "Epoch 91/100\n",
            "50/50 [==============================] - 7s 144ms/step - loss: 0.1332 - accuracy: 0.9613\n",
            "Epoch 92/100\n",
            "50/50 [==============================] - 6s 116ms/step - loss: 0.1742 - accuracy: 0.9569\n",
            "Epoch 93/100\n",
            "50/50 [==============================] - 7s 146ms/step - loss: 0.1319 - accuracy: 0.9670\n",
            "Epoch 94/100\n",
            "50/50 [==============================] - 6s 115ms/step - loss: 0.1081 - accuracy: 0.9746\n",
            "Epoch 95/100\n",
            "50/50 [==============================] - 7s 144ms/step - loss: 0.0821 - accuracy: 0.9759\n",
            "Epoch 96/100\n",
            "50/50 [==============================] - 6s 115ms/step - loss: 0.0741 - accuracy: 0.9797\n",
            "Epoch 97/100\n",
            "50/50 [==============================] - 7s 143ms/step - loss: 0.0697 - accuracy: 0.9784\n",
            "Epoch 98/100\n",
            "50/50 [==============================] - 6s 116ms/step - loss: 0.1798 - accuracy: 0.9531\n",
            "Epoch 99/100\n",
            "50/50 [==============================] - 7s 144ms/step - loss: 0.1132 - accuracy: 0.9746\n",
            "Epoch 100/100\n",
            "50/50 [==============================] - 6s 117ms/step - loss: 0.0867 - accuracy: 0.9734\n"
          ]
        },
        {
          "output_type": "execute_result",
          "data": {
            "text/plain": [
              "<keras.src.callbacks.History at 0x7cf239e4d5a0>"
            ]
          },
          "metadata": {},
          "execution_count": 78
        }
      ]
    },
    {
      "cell_type": "code",
      "source": [
        "def generate_text(prompt, model, tokenizer, max_sequence_len, num_words=50):\n",
        "    seed_text = prompt.lower()\n",
        "    for _ in range(num_words):\n",
        "        token_list = tokenizer.texts_to_sequences([seed_text])[0]\n",
        "        token_list = pad_sequences([token_list], maxlen=max_sequence_len-1, padding='pre')\n",
        "        predicted_probs = model.predict(token_list, verbose=0)[0]\n",
        "        predicted_index = np.argmax(predicted_probs)\n",
        "        output_word = \"\"\n",
        "        for word, index in tokenizer.word_index.items():\n",
        "            if index == predicted_index:\n",
        "                output_word = word\n",
        "                break\n",
        "        seed_text += \" \" + output_word\n",
        "    print(seed_text.capitalize())"
      ],
      "metadata": {
        "id": "gqMf5PnaI07m"
      },
      "execution_count": 79,
      "outputs": []
    },
    {
      "cell_type": "code",
      "source": [
        "while True:\n",
        "    prompt = input(\"Enter a prompt for writing (type 'exit' to quit):\\n\")\n",
        "    if prompt.lower() == 'exit':\n",
        "        print(\"Goodbye!\")\n",
        "        break\n",
        "    print(\"Here's your writing:\")\n",
        "    generate_text(prompt, model, tokenizer, max_sequence_len)\n",
        "    print(\"\\n\")"
      ],
      "metadata": {
        "colab": {
          "base_uri": "https://localhost:8080/"
        },
        "id": "f76ShByJeKLN",
        "outputId": "c11191e9-d3fe-4b0d-a798-74c2c8f91694"
      },
      "execution_count": 84,
      "outputs": [
        {
          "output_type": "stream",
          "name": "stdout",
          "text": [
            "Enter a prompt for writing (type 'exit' to quit):\n",
            "A beautiful sunset\n",
            "Here's your writing:\n",
            "A beautiful sunset sunset paint the sky in shades of orange and gold with clouds ablaze and the horizon ablaze with color i felt a sense of gratitude for the beauty of the world and the gift of another day day day patterns of another day day day day day day day day\n",
            "\n",
            "\n",
            "Enter a prompt for writing (type 'exit' to quit):\n",
            "About an adventurous journey\n",
            "Here's your writing:\n",
            "About an adventurous journey through the shimmering portal i found myself transported to a world of wonder and enchantment twisting where me and fantasy intertwined reality i had entered a world untouched by man i had been transported to a paradise on earth wonder and wonder to the embrace of nature and and possible\n",
            "\n",
            "\n",
            "Enter a prompt for writing (type 'exit' to quit):\n",
            "Exploration\n",
            "Here's your writing:\n",
            "Exploration the tranquility of the forest i embarked on a peaceful journey guided by the whispers of the wind and lurked in the rhythm of the ocean and lost in the whirlpool of emotion long lost at time one with a untamed beauty of the sea kingdom the moment and away\n",
            "\n",
            "\n",
            "Enter a prompt for writing (type 'exit' to quit):\n",
            "exit\n",
            "Goodbye!\n"
          ]
        }
      ]
    }
  ]
}